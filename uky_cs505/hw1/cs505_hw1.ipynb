{
  "nbformat": 4,
  "nbformat_minor": 0,
  "metadata": {
    "colab": {
      "private_outputs": true,
      "provenance": [],
      "toc_visible": true
    },
    "kernelspec": {
      "name": "python3",
      "display_name": "Python 3"
    },
    "language_info": {
      "name": "python"
    }
  },
  "cells": [
    {
      "cell_type": "markdown",
      "source": [
        "**ArcticDB Installation:**"
      ],
      "metadata": {
        "id": "4umtmrXkhrhV"
      }
    },
    {
      "cell_type": "code",
      "execution_count": null,
      "metadata": {
        "id": "-ORSpzWeheAV"
      },
      "outputs": [],
      "source": [
        "!pip install arcticdb"
      ]
    },
    {
      "cell_type": "markdown",
      "source": [
        "**Importing libraries:**"
      ],
      "metadata": {
        "id": "J1ZcNc0ei8CJ"
      }
    },
    {
      "cell_type": "code",
      "source": [
        "import numpy as np\n",
        "import time\n",
        "from datetime import datetime\n",
        "import pandas as pd\n",
        "import arcticdb as adb"
      ],
      "metadata": {
        "id": "nJVgHnPZi7H8"
      },
      "execution_count": null,
      "outputs": []
    },
    {
      "cell_type": "markdown",
      "source": [
        "**Creating some small timeseris datasets using DataFrame:**"
      ],
      "metadata": {
        "id": "rlS0iyN1lIdD"
      }
    },
    {
      "cell_type": "code",
      "source": [
        "column_names=[\"Col1\",\"Col2\",'Col3']\n",
        "ts_dly1 = pd.DataFrame(np.ones((5, 3))*40, index=pd.date_range('01/01/2024', periods=5, freq=\"D\"), columns=column_names)\n",
        "ts_dly2 = pd.DataFrame(np.ones((5, 3))*50, index=pd.date_range('01/05/2024', periods=5, freq=\"D\"), columns=column_names)\n",
        "ts_dly3 = pd.DataFrame(np.ones((5, 3))*60, index=pd.date_range('01/03/2024', periods=5, freq=\"D\"), columns=column_names)\n",
        "print(ts_dly1)\n",
        "print(ts_dly2)\n",
        "print(ts_dly3)\n"
      ],
      "metadata": {
        "id": "jYi8CFHCj-SI"
      },
      "execution_count": null,
      "outputs": []
    },
    {
      "cell_type": "markdown",
      "source": [
        "**Building Libraries:**"
      ],
      "metadata": {
        "id": "Az9jht_arSpV"
      }
    },
    {
      "cell_type": "code",
      "source": [
        "arctic = adb.Arctic(\"lmdb://arcticdb_hw1\")\n",
        "lib = arctic.get_library('cs505_hw1', create_if_missing=True)"
      ],
      "metadata": {
        "id": "fOb_B1z7reLm"
      },
      "execution_count": null,
      "outputs": []
    },
    {
      "cell_type": "markdown",
      "source": [
        "**We perform data write operation using panda's DataFrame:**"
      ],
      "metadata": {
        "id": "hCO1rCj4sGWI"
      }
    },
    {
      "cell_type": "code",
      "source": [
        "write_record = lib.write(\"DAILY_DATA\", ts_dly1)\n",
        "print(write_record)"
      ],
      "metadata": {
        "id": "LYapxk0bsQKG"
      },
      "execution_count": null,
      "outputs": []
    },
    {
      "cell_type": "markdown",
      "source": [
        "**We perform data read operation:**"
      ],
      "metadata": {
        "id": "tCMh0Fi2vaJN"
      }
    },
    {
      "cell_type": "code",
      "source": [
        "read_record = lib.read(\"DAILY_DATA\")\n",
        "print(read_record)"
      ],
      "metadata": {
        "id": "zjtDRSfbs5oL"
      },
      "execution_count": null,
      "outputs": []
    },
    {
      "cell_type": "code",
      "source": [
        "print(read_record.data)"
      ],
      "metadata": {
        "id": "fRyCSK_xtQ7B"
      },
      "execution_count": null,
      "outputs": []
    },
    {
      "cell_type": "markdown",
      "source": [
        "**With the help of lib.append we modify the data:\n",
        "We basically append \"ts_daily2\" and \"ts_daily3\" datasets on lib**"
      ],
      "metadata": {
        "id": "ulStvjn2xYQO"
      }
    },
    {
      "cell_type": "code",
      "source": [
        "lib.append(\"DAILY_DATA\", ts_dly2)\n",
        "print(lib.read(\"DAILY_DATA\").data)"
      ],
      "metadata": {
        "id": "zctLSm4RxcTW"
      },
      "execution_count": null,
      "outputs": []
    },
    {
      "cell_type": "code",
      "source": [
        "lib.update(\"DAILY_DATA\", ts_dly3)\n",
        "print(lib.read(\"DAILY_DATA\").data)"
      ],
      "metadata": {
        "id": "LLRJ4HfE0bnl"
      },
      "execution_count": null,
      "outputs": []
    },
    {
      "cell_type": "markdown",
      "source": [
        "**Rewind the version to whhen it was written:**"
      ],
      "metadata": {
        "id": "Bdybv8zuBLQ0"
      }
    },
    {
      "cell_type": "code",
      "source": [
        "print(lib.read(\"DAILY_DATA\", as_of=write_record.version).data)"
      ],
      "metadata": {
        "id": "K_Igek2EBQtq"
      },
      "execution_count": null,
      "outputs": []
    }
  ]
}